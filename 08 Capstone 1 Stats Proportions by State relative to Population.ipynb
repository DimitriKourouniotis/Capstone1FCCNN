{
 "cells": [
  {
   "cell_type": "markdown",
   "metadata": {},
   "source": [
    "#### This Notebook will <li> explore the hypothesis that the distribution of filings is significantly different than a normal distribution"
   ]
  },
  {
   "cell_type": "markdown",
   "metadata": {},
   "source": [
    "My exploration below investigates if there is something statistically out of the norm about the distribution of the comments filed not being consistent with the distribution of the population by state.   "
   ]
  },
  {
   "cell_type": "markdown",
   "metadata": {},
   "source": [
    "A sample of 3 million FCC Net Nuetrality comments were taken from the 22 million submitted. The data was cleaned to allocate as many comments as possible to their respective state through the zip code field in the address field. Some fraudulent ones were uncovered for example: \n",
    "* an IP address was provided instead of a zip code (in these instances the email address is 'netsparker@example.com' and the city of Chicago is situated in the state of Virgina)\n",
    "* a valid zipcode appeared in the freeform text field 'internationaladdressentity' field but the city was omitted, something native residents would not do. In addition to a superfluous addition of \"United States of America\" where it is not required\n",
    "* instances where a field would be NULL instead of simply blank yeilded a valid zipcode and city, but fake street address - it has already been reported in the press that hundreds of these appeared to posted at the exact identical time "
   ]
  },
  {
   "cell_type": "markdown",
   "metadata": {},
   "source": [
    "Once comments where attributed to their states, I imported census data for the 2016 population estimates of each state and DC. With this I created a dataframe with the: \n",
    "* % US Population in Each State \n",
    "* % of Total Comments by State\n",
    "* % of Comments to State Population \n",
    "* Difference between % US Population and % of Total Comments.  "
   ]
  },
  {
   "cell_type": "markdown",
   "metadata": {},
   "source": [
    "# Exploring the difference from the national population"
   ]
  },
  {
   "cell_type": "markdown",
   "metadata": {},
   "source": [
    "### The comments should be distributed by states in proportion to the population. My assumption is that the difference from the state average has a mean of 0 and a standard deviation of 1"
   ]
  },
  {
   "cell_type": "markdown",
   "metadata": {},
   "source": [
    " H<sub>0</sub> Null Hypothesis: The proportion of comments from each state is equal to the proportion of the population of that state to the nation.\n",
    " \n",
    " H<sub>1</sub> Alternative Hypothesis: The distribution of proportions from each state is not equal to the proportion of the population of that state to the nation."
   ]
  },
  {
   "cell_type": "code",
   "execution_count": 1,
   "metadata": {},
   "outputs": [],
   "source": [
    "#import \n",
    "import pandas as pd\n",
    "import numpy as np\n",
    "import scipy.stats as stats\n",
    "import dc_stat_think as dcst "
   ]
  },
  {
   "cell_type": "code",
   "execution_count": 2,
   "metadata": {},
   "outputs": [],
   "source": [
    "#visualization imports\n",
    "import matplotlib.pyplot as plt\n",
    "import seaborn as sns\n",
    "%matplotlib inline"
   ]
  },
  {
   "cell_type": "code",
   "execution_count": 3,
   "metadata": {},
   "outputs": [],
   "source": [
    "df = pd.read_csv('FCC_pop_comments_perc2.csv')"
   ]
  },
  {
   "cell_type": "code",
   "execution_count": 4,
   "metadata": {},
   "outputs": [
    {
     "data": {
      "text/html": [
       "<div>\n",
       "<style>\n",
       "    .dataframe thead tr:only-child th {\n",
       "        text-align: right;\n",
       "    }\n",
       "\n",
       "    .dataframe thead th {\n",
       "        text-align: left;\n",
       "    }\n",
       "\n",
       "    .dataframe tbody tr th {\n",
       "        vertical-align: top;\n",
       "    }\n",
       "</style>\n",
       "<table border=\"1\" class=\"dataframe\">\n",
       "  <thead>\n",
       "    <tr style=\"text-align: right;\">\n",
       "      <th></th>\n",
       "      <th>POPESTIMATE2016</th>\n",
       "      <th>perc_pop</th>\n",
       "      <th>name</th>\n",
       "      <th>abbreviation</th>\n",
       "      <th>State_Abbreviation</th>\n",
       "      <th>filers</th>\n",
       "      <th>perc_comments</th>\n",
       "      <th>diff_prop_pop_prop_com</th>\n",
       "      <th>diff_perc_pop_comments</th>\n",
       "    </tr>\n",
       "  </thead>\n",
       "  <tbody>\n",
       "    <tr>\n",
       "      <th>0</th>\n",
       "      <td>4863300</td>\n",
       "      <td>1.51</td>\n",
       "      <td>Alabama</td>\n",
       "      <td>AL</td>\n",
       "      <td>AL</td>\n",
       "      <td>29970</td>\n",
       "      <td>1.53</td>\n",
       "      <td>-0.02</td>\n",
       "      <td>-0.02</td>\n",
       "    </tr>\n",
       "    <tr>\n",
       "      <th>1</th>\n",
       "      <td>741894</td>\n",
       "      <td>0.23</td>\n",
       "      <td>Alaska</td>\n",
       "      <td>AK</td>\n",
       "      <td>AK</td>\n",
       "      <td>4441</td>\n",
       "      <td>0.23</td>\n",
       "      <td>0.00</td>\n",
       "      <td>0.00</td>\n",
       "    </tr>\n",
       "  </tbody>\n",
       "</table>\n",
       "</div>"
      ],
      "text/plain": [
       "   POPESTIMATE2016  perc_pop     name abbreviation State_Abbreviation  filers  \\\n",
       "0          4863300      1.51  Alabama           AL                 AL   29970   \n",
       "1           741894      0.23   Alaska           AK                 AK    4441   \n",
       "\n",
       "   perc_comments  diff_prop_pop_prop_com  diff_perc_pop_comments  \n",
       "0           1.53                   -0.02                   -0.02  \n",
       "1           0.23                    0.00                    0.00  "
      ]
     },
     "execution_count": 4,
     "metadata": {},
     "output_type": "execute_result"
    }
   ],
   "source": [
    "df.head(2)"
   ]
  },
  {
   "cell_type": "code",
   "execution_count": 5,
   "metadata": {},
   "outputs": [],
   "source": [
    "#create dataframe with just state and % of comments to state population\n",
    "df_diff = df[['State_Abbreviation','diff_perc_pop_comments']]"
   ]
  },
  {
   "cell_type": "code",
   "execution_count": 26,
   "metadata": {},
   "outputs": [
    {
     "name": "stdout",
     "output_type": "stream",
     "text": [
      "<class 'pandas.core.frame.DataFrame'>\n",
      "RangeIndex: 51 entries, 0 to 50\n",
      "Data columns (total 2 columns):\n",
      "State_Abbreviation        51 non-null object\n",
      "diff_perc_pop_comments    51 non-null float64\n",
      "dtypes: float64(1), object(1)\n",
      "memory usage: 896.0+ bytes\n"
     ]
    }
   ],
   "source": [
    "#explore smaller dataframe\n",
    "df_diff.info()"
   ]
  },
  {
   "cell_type": "code",
   "execution_count": 6,
   "metadata": {},
   "outputs": [],
   "source": [
    "# rename column\n",
    "df_diff=df_diff.rename(columns = {'State_Abbreviation':'state','diff_perc_pop_comments':'diff'})"
   ]
  },
  {
   "cell_type": "code",
   "execution_count": 7,
   "metadata": {},
   "outputs": [
    {
     "data": {
      "text/html": [
       "<div>\n",
       "<style>\n",
       "    .dataframe thead tr:only-child th {\n",
       "        text-align: right;\n",
       "    }\n",
       "\n",
       "    .dataframe thead th {\n",
       "        text-align: left;\n",
       "    }\n",
       "\n",
       "    .dataframe tbody tr th {\n",
       "        vertical-align: top;\n",
       "    }\n",
       "</style>\n",
       "<table border=\"1\" class=\"dataframe\">\n",
       "  <thead>\n",
       "    <tr style=\"text-align: right;\">\n",
       "      <th></th>\n",
       "      <th>state</th>\n",
       "      <th>diff</th>\n",
       "    </tr>\n",
       "  </thead>\n",
       "  <tbody>\n",
       "    <tr>\n",
       "      <th>0</th>\n",
       "      <td>AL</td>\n",
       "      <td>-0.02</td>\n",
       "    </tr>\n",
       "    <tr>\n",
       "      <th>1</th>\n",
       "      <td>AK</td>\n",
       "      <td>0.00</td>\n",
       "    </tr>\n",
       "    <tr>\n",
       "      <th>2</th>\n",
       "      <td>AZ</td>\n",
       "      <td>0.27</td>\n",
       "    </tr>\n",
       "    <tr>\n",
       "      <th>3</th>\n",
       "      <td>AR</td>\n",
       "      <td>0.12</td>\n",
       "    </tr>\n",
       "    <tr>\n",
       "      <th>4</th>\n",
       "      <td>CA</td>\n",
       "      <td>1.09</td>\n",
       "    </tr>\n",
       "    <tr>\n",
       "      <th>5</th>\n",
       "      <td>CO</td>\n",
       "      <td>-0.23</td>\n",
       "    </tr>\n",
       "    <tr>\n",
       "      <th>6</th>\n",
       "      <td>CT</td>\n",
       "      <td>-0.16</td>\n",
       "    </tr>\n",
       "    <tr>\n",
       "      <th>7</th>\n",
       "      <td>DE</td>\n",
       "      <td>0.05</td>\n",
       "    </tr>\n",
       "  </tbody>\n",
       "</table>\n",
       "</div>"
      ],
      "text/plain": [
       "  state  diff\n",
       "0    AL -0.02\n",
       "1    AK  0.00\n",
       "2    AZ  0.27\n",
       "3    AR  0.12\n",
       "4    CA  1.09\n",
       "5    CO -0.23\n",
       "6    CT -0.16\n",
       "7    DE  0.05"
      ]
     },
     "execution_count": 7,
     "metadata": {},
     "output_type": "execute_result"
    }
   ],
   "source": [
    "#explore the dataframe of the differences from the national population %\n",
    "df_diff.head(8)"
   ]
  },
  {
   "cell_type": "code",
   "execution_count": 8,
   "metadata": {},
   "outputs": [
    {
     "data": {
      "text/html": [
       "<div>\n",
       "<style>\n",
       "    .dataframe thead tr:only-child th {\n",
       "        text-align: right;\n",
       "    }\n",
       "\n",
       "    .dataframe thead th {\n",
       "        text-align: left;\n",
       "    }\n",
       "\n",
       "    .dataframe tbody tr th {\n",
       "        vertical-align: top;\n",
       "    }\n",
       "</style>\n",
       "<table border=\"1\" class=\"dataframe\">\n",
       "  <thead>\n",
       "    <tr style=\"text-align: right;\">\n",
       "      <th></th>\n",
       "      <th>diff</th>\n",
       "    </tr>\n",
       "  </thead>\n",
       "  <tbody>\n",
       "    <tr>\n",
       "      <th>count</th>\n",
       "      <td>5.100000e+01</td>\n",
       "    </tr>\n",
       "    <tr>\n",
       "      <th>mean</th>\n",
       "      <td>-3.748363e-17</td>\n",
       "    </tr>\n",
       "    <tr>\n",
       "      <th>std</th>\n",
       "      <td>3.594830e-01</td>\n",
       "    </tr>\n",
       "    <tr>\n",
       "      <th>min</th>\n",
       "      <td>-8.900000e-01</td>\n",
       "    </tr>\n",
       "    <tr>\n",
       "      <th>25%</th>\n",
       "      <td>-7.500000e-02</td>\n",
       "    </tr>\n",
       "    <tr>\n",
       "      <th>50%</th>\n",
       "      <td>0.000000e+00</td>\n",
       "    </tr>\n",
       "    <tr>\n",
       "      <th>75%</th>\n",
       "      <td>8.000000e-02</td>\n",
       "    </tr>\n",
       "    <tr>\n",
       "      <th>max</th>\n",
       "      <td>1.670000e+00</td>\n",
       "    </tr>\n",
       "  </tbody>\n",
       "</table>\n",
       "</div>"
      ],
      "text/plain": [
       "               diff\n",
       "count  5.100000e+01\n",
       "mean  -3.748363e-17\n",
       "std    3.594830e-01\n",
       "min   -8.900000e-01\n",
       "25%   -7.500000e-02\n",
       "50%    0.000000e+00\n",
       "75%    8.000000e-02\n",
       "max    1.670000e+00"
      ]
     },
     "execution_count": 8,
     "metadata": {},
     "output_type": "execute_result"
    }
   ],
   "source": [
    "df_diff.describe()"
   ]
  },
  {
   "cell_type": "code",
   "execution_count": 9,
   "metadata": {},
   "outputs": [
    {
     "name": "stdout",
     "output_type": "stream",
     "text": [
      "<class 'pandas.core.frame.DataFrame'>\n",
      "RangeIndex: 51 entries, 0 to 50\n",
      "Data columns (total 2 columns):\n",
      "state    51 non-null object\n",
      "diff     51 non-null float64\n",
      "dtypes: float64(1), object(1)\n",
      "memory usage: 896.0+ bytes\n"
     ]
    }
   ],
   "source": [
    "#explore smaller dataframe\n",
    "df_diff.info()"
   ]
  },
  {
   "cell_type": "code",
   "execution_count": 10,
   "metadata": {},
   "outputs": [],
   "source": [
    "#Calculate the difference from the mean and standard deviation\n",
    "mean = df_diff['diff'].mean()\n",
    "var = df_diff['diff'].var()\n",
    "std = df_diff['diff'].std()"
   ]
  },
  {
   "cell_type": "code",
   "execution_count": 11,
   "metadata": {},
   "outputs": [
    {
     "name": "stdout",
     "output_type": "stream",
     "text": [
      "Sample mean: -3.748363275542042e-17\n",
      "Sample variance: 0.12922799999999993\n",
      "Sample standard deviation : 0.35948296204410013\n"
     ]
    }
   ],
   "source": [
    "print('Sample mean: {}'.format(mean))\n",
    "print('Sample variance: {}'.format(var))\n",
    "print('Sample standard deviation : {}'.format(std))"
   ]
  },
  {
   "cell_type": "code",
   "execution_count": 12,
   "metadata": {},
   "outputs": [
    {
     "name": "stdout",
     "output_type": "stream",
     "text": [
      "Z-Score : 7.446435821116343e-16\n"
     ]
    }
   ],
   "source": [
    "# z statistic \n",
    "# population mean - sample mean / (standard deviation of sample / root(sample size)\n",
    "\n",
    "S = ((std)/np.sqrt(len(df_diff['diff'])))\n",
    "                       \n",
    "zstat = (0 - mean)/S                     \n",
    "\n",
    "print('Z-Score : {}'.format(zstat))"
   ]
  },
  {
   "cell_type": "code",
   "execution_count": 56,
   "metadata": {},
   "outputs": [
    {
     "name": "stdout",
     "output_type": "stream",
     "text": [
      "P-value : 0.4984110466412444\n"
     ]
    }
   ],
   "source": [
    "prob = stats.norm.cdf(mean, 0, S)\n",
    "print('P-value : {}'.format(prob))"
   ]
  },
  {
   "cell_type": "markdown",
   "metadata": {},
   "source": [
    "### As the P-value > 0.05 we accept the null hypothesis"
   ]
  },
  {
   "cell_type": "markdown",
   "metadata": {},
   "source": [
    "Using a 95% confidence interval, with the range -1.96 to +1.96 standard deviations, we can see that the sample mean of -0.000196 falls well within the boundry. Additionally the largest value of +1.67, from the max result from df_diff.describe(), falls into that range. "
   ]
  },
  {
   "cell_type": "code",
   "execution_count": null,
   "metadata": {},
   "outputs": [],
   "source": [
    "#Several values do have outlier effect. \n",
    "#Calculating the Z-score for the whole dataset."
   ]
  },
  {
   "cell_type": "code",
   "execution_count": 13,
   "metadata": {},
   "outputs": [],
   "source": [
    " df_diff['zscore']= df_diff['diff']/std"
   ]
  },
  {
   "cell_type": "code",
   "execution_count": 14,
   "metadata": {},
   "outputs": [],
   "source": [
    "extremes = df_diff[(df_diff['zscore']>1.96) | (df_diff['zscore']<-1.96)]"
   ]
  },
  {
   "cell_type": "code",
   "execution_count": 15,
   "metadata": {},
   "outputs": [
    {
     "data": {
      "text/html": [
       "<div>\n",
       "<style>\n",
       "    .dataframe thead tr:only-child th {\n",
       "        text-align: right;\n",
       "    }\n",
       "\n",
       "    .dataframe thead th {\n",
       "        text-align: left;\n",
       "    }\n",
       "\n",
       "    .dataframe tbody tr th {\n",
       "        vertical-align: top;\n",
       "    }\n",
       "</style>\n",
       "<table border=\"1\" class=\"dataframe\">\n",
       "  <thead>\n",
       "    <tr style=\"text-align: right;\">\n",
       "      <th></th>\n",
       "      <th>state</th>\n",
       "      <th>diff</th>\n",
       "      <th>zscore</th>\n",
       "    </tr>\n",
       "  </thead>\n",
       "  <tbody>\n",
       "    <tr>\n",
       "      <th>4</th>\n",
       "      <td>CA</td>\n",
       "      <td>1.09</td>\n",
       "      <td>3.032133</td>\n",
       "    </tr>\n",
       "    <tr>\n",
       "      <th>37</th>\n",
       "      <td>OR</td>\n",
       "      <td>-0.89</td>\n",
       "      <td>-2.475778</td>\n",
       "    </tr>\n",
       "    <tr>\n",
       "      <th>43</th>\n",
       "      <td>TX</td>\n",
       "      <td>1.67</td>\n",
       "      <td>4.645561</td>\n",
       "    </tr>\n",
       "    <tr>\n",
       "      <th>46</th>\n",
       "      <td>VA</td>\n",
       "      <td>-0.72</td>\n",
       "      <td>-2.002877</td>\n",
       "    </tr>\n",
       "  </tbody>\n",
       "</table>\n",
       "</div>"
      ],
      "text/plain": [
       "   state  diff    zscore\n",
       "4     CA  1.09  3.032133\n",
       "37    OR -0.89 -2.475778\n",
       "43    TX  1.67  4.645561\n",
       "46    VA -0.72 -2.002877"
      ]
     },
     "execution_count": 15,
     "metadata": {},
     "output_type": "execute_result"
    }
   ],
   "source": [
    "# however 4 states have z-scores outside +/- 1.96 Standard Deviations\n",
    "extremes"
   ]
  },
  {
   "cell_type": "markdown",
   "metadata": {},
   "source": [
    "## The proportion of comments from each state relative to the population proportion should be normal\n",
    "\n",
    "### H<sub>0</sub> Null Hypothesis: the distribution of comment proportions by state of is Normal\n",
    "### H<sub>1</sub> Alternative Hypothesis: the distribution of proportions from each state is not Normal"
   ]
  },
  {
   "cell_type": "code",
   "execution_count": 16,
   "metadata": {},
   "outputs": [
    {
     "data": {
      "text/plain": [
       "<matplotlib.axes._subplots.AxesSubplot at 0x167b6c29ba8>"
      ]
     },
     "execution_count": 16,
     "metadata": {},
     "output_type": "execute_result"
    },
    {
     "data": {
      "image/png": "[encoded data removed]",
      "text/plain": [
       "<matplotlib.figure.Figure at 0x167b6c292b0>"
      ]
     },
     "metadata": {},
     "output_type": "display_data"
    }
   ],
   "source": [
    "#The proportion of comments attributed to each state should be proportional to the population\n",
    "#The difference in that proportion should be normally distributed\n",
    "sns.distplot(df['diff_perc_pop_comments'],color='Green')"
   ]
  },
  {
   "cell_type": "code",
   "execution_count": 17,
   "metadata": {},
   "outputs": [
    {
     "data": {
      "text/plain": [
       "count    5.100000e+01\n",
       "mean    -3.748363e-17\n",
       "std      3.594830e-01\n",
       "min     -8.900000e-01\n",
       "25%     -7.500000e-02\n",
       "50%      0.000000e+00\n",
       "75%      8.000000e-02\n",
       "max      1.670000e+00\n",
       "Name: diff_perc_pop_comments, dtype: float64"
      ]
     },
     "execution_count": 17,
     "metadata": {},
     "output_type": "execute_result"
    }
   ],
   "source": [
    "s = pd.Series(df['diff_perc_pop_comments'])\n",
    "s.describe()"
   ]
  },
  {
   "cell_type": "code",
   "execution_count": 18,
   "metadata": {},
   "outputs": [
    {
     "name": "stdout",
     "output_type": "stream",
     "text": [
      "alpha = 0.001\n",
      "p = 5.90168e-10\n",
      "The null hypothesis CAN be rejected\n"
     ]
    }
   ],
   "source": [
    "#Test the normal distribution hypothesis from the Population Size = 51 (DC+50 states)\n",
    "k2, p = stats.normaltest(df['diff_perc_pop_comments'])\n",
    "alpha = 1e-3\n",
    "print(\"alpha = {:g}\".format(alpha))\n",
    "print(\"p = {:g}\".format(p))\n",
    "if p < alpha:  # null hypothesis: x comes from a normal distribution\n",
    "     print(\"The null hypothesis CAN be rejected\")\n",
    "else:\n",
    "     print(\"The null hypothesis CANNOT be rejected\")\n"
   ]
  },
  {
   "cell_type": "markdown",
   "metadata": {},
   "source": [
    "The distribution is not normal"
   ]
  },
  {
   "cell_type": "code",
   "execution_count": null,
   "metadata": {},
   "outputs": [],
   "source": []
  }
 ],
 "metadata": {
  "kernelspec": {
   "display_name": "Python 3",
   "language": "python",
   "name": "python3"
  },
  "language_info": {
   "codemirror_mode": {
    "name": "ipython",
    "version": 3
   },
   "file_extension": ".py",
   "mimetype": "text/x-python",
   "name": "python",
   "nbconvert_exporter": "python",
   "pygments_lexer": "ipython3",
   "version": "3.6.3"
  }
 },
 "nbformat": 4,
 "nbformat_minor": 2
}
