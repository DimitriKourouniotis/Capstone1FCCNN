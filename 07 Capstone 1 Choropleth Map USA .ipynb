{
 "cells": [
  {
   "cell_type": "markdown",
   "metadata": {},
   "source": [
    "#### This Notebook will  <li>draw the Chorogrid Map of the United States showing variation of submissions differening from the population estimates  <li> draw the normalized distribution of these values"
   ]
  },
  {
   "cell_type": "code",
   "execution_count": 3,
   "metadata": {},
   "outputs": [],
   "source": [
    "# imports\n",
    "from chorogrid import Colorbin, Chorogrid\n",
    "import pandas as pd"
   ]
  },
  {
   "cell_type": "markdown",
   "metadata": {},
   "source": [
    "Read in the data and slice for the state abbreviation and variation from population estimate"
   ]
  },
  {
   "cell_type": "code",
   "execution_count": 4,
   "metadata": {},
   "outputs": [],
   "source": [
    "df = pd.read_csv('FCC_pop_comments_perc2.csv')"
   ]
  },
  {
   "cell_type": "code",
   "execution_count": 32,
   "metadata": {},
   "outputs": [
    {
     "data": {
      "text/html": [
       "<div>\n",
       "<style>\n",
       "    .dataframe thead tr:only-child th {\n",
       "        text-align: right;\n",
       "    }\n",
       "\n",
       "    .dataframe thead th {\n",
       "        text-align: left;\n",
       "    }\n",
       "\n",
       "    .dataframe tbody tr th {\n",
       "        vertical-align: top;\n",
       "    }\n",
       "</style>\n",
       "<table border=\"1\" class=\"dataframe\">\n",
       "  <thead>\n",
       "    <tr style=\"text-align: right;\">\n",
       "      <th></th>\n",
       "      <th>abbreviation</th>\n",
       "      <th>diff_perc_pop_comments</th>\n",
       "    </tr>\n",
       "  </thead>\n",
       "  <tbody>\n",
       "    <tr>\n",
       "      <th>37</th>\n",
       "      <td>OR</td>\n",
       "      <td>-0.89</td>\n",
       "    </tr>\n",
       "    <tr>\n",
       "      <th>46</th>\n",
       "      <td>VA</td>\n",
       "      <td>-0.72</td>\n",
       "    </tr>\n",
       "    <tr>\n",
       "      <th>47</th>\n",
       "      <td>WA</td>\n",
       "      <td>-0.55</td>\n",
       "    </tr>\n",
       "    <tr>\n",
       "      <th>21</th>\n",
       "      <td>MA</td>\n",
       "      <td>-0.46</td>\n",
       "    </tr>\n",
       "    <tr>\n",
       "      <th>30</th>\n",
       "      <td>NJ</td>\n",
       "      <td>-0.41</td>\n",
       "    </tr>\n",
       "  </tbody>\n",
       "</table>\n",
       "</div>"
      ],
      "text/plain": [
       "   abbreviation  diff_perc_pop_comments\n",
       "37           OR                   -0.89\n",
       "46           VA                   -0.72\n",
       "47           WA                   -0.55\n",
       "21           MA                   -0.46\n",
       "30           NJ                   -0.41"
      ]
     },
     "execution_count": 32,
     "metadata": {},
     "output_type": "execute_result"
    }
   ],
   "source": [
    "df = df[['abbreviation','diff_perc_pop_comments']]\n",
    "df.head()"
   ]
  },
  {
   "cell_type": "markdown",
   "metadata": {},
   "source": [
    "Set the values for the color range and fenceposts for the values that will trigger the different colors."
   ]
  },
  {
   "cell_type": "code",
   "execution_count": 70,
   "metadata": {},
   "outputs": [],
   "source": [
    "#Set the fenceposts for the colors and specify the color range\n",
    "\n",
    "mycolors = ['#b35806', '#f1a340', '#fee0b6', '#D3D3D3','#d8daeb', '#998ec3', '#542788']\n",
    "\n",
    "mybin = Colorbin(df['diff_perc_pop_comments'], mycolors, proportional=True, decimals=None)\n",
    "mybin.set_decimals(2)\n",
    "mybin.recalc(fenceposts=True)\n",
    "\n",
    "mybin.fenceposts = [-2.00,-0.70,-0.36,-0.1,0.1,0.36,.70,2.00]\n",
    "#mybin.recalc(fenceposts=True)\n",
    "\n",
    "mybin.recalc(fenceposts=False) # if this were true, the fenceposts would be changed back to what they were originally\n",
    "#mybin.count_bins()\n",
    "\n",
    "mybin.calc_complements(0.5, '#e0e0e0', '#101010')"
   ]
  },
  {
   "cell_type": "markdown",
   "metadata": {},
   "source": [
    "Set the values to the parameters that will be used by the Chorogrid function."
   ]
  },
  {
   "cell_type": "code",
   "execution_count": 72,
   "metadata": {},
   "outputs": [],
   "source": [
    "states = list(df['abbreviation'])\n",
    "colors_by_state = mybin.colors_out\n",
    "font_colors_by_state = mybin.complements\n",
    "legend_colors = mybin.colors_in\n",
    "legend_labels = mybin.labels"
   ]
  },
  {
   "cell_type": "markdown",
   "metadata": {},
   "source": [
    "Read in the design and description files for creating the grid map of the USA "
   ]
  },
  {
   "cell_type": "code",
   "execution_count": 12,
   "metadata": {
    "collapsed": true
   },
   "outputs": [
    {
     "name": "stdout",
     "output_type": "stream",
     "text": [
      "abbrev                                                                   AK\n",
      "full_name                                                            Alaska\n",
      "long_abbrev                                                           Alas.\n",
      "FIPS                                                                      2\n",
      "pop                                                                  710231\n",
      "sqmi                                                                 663267\n",
      "map_path                  m 135.58488,358.02208 -0.24846,65.59232 1.2422...\n",
      "map_fill_default                                                          2\n",
      "map_label_x                                                         99.7626\n",
      "map_label_y                                                         398.173\n",
      "map_label_text_anchor                                                middle\n",
      "map_label_line_path                                                     NaN\n",
      "altmap_path               m 151.26632,459.09682 -0.31386,83.24785 1.5692...\n",
      "square_x                                                                  0\n",
      "square_y                                                                  0\n",
      "altsquare_x                                                               0\n",
      "altsquare_y                                                               0\n",
      "hex_x                                                                     1\n",
      "hex_y                                                                     0\n",
      "althex_x                                                                  0\n",
      "althex_y                                                                  0\n",
      "fourhex_x                                                                 2\n",
      "fourhex_y                                                                 1\n",
      "fourhex_contour                                              ababcdcdedefaf\n",
      "fourhex_label_offset_x                                                 0.25\n",
      "fourhex_label_offset_y                                                  0.5\n",
      "Name: 0, dtype: object\n"
     ]
    }
   ],
   "source": [
    "_ = pd.read_csv('usa_states.csv')"
   ]
  },
  {
   "cell_type": "code",
   "execution_count": 13,
   "metadata": {
    "collapsed": true
   },
   "outputs": [
    {
     "name": "stdout",
     "output_type": "stream",
     "text": [
      "abbrev                       Postal abbreviation for 50 states and D.C.\n",
      "full_name                    Full name\n",
      "long_abbrev                  Abbreviation, based on but not identical to recommendations of Associated Press\n",
      "FIPS                         Federal Information Processing Standards\n",
      "pop                          Population in 2013\n",
      "sqmi                         Area in square miles\n",
      "\n",
      "map_path                     SVG path for geographic map\n",
      "map_fill_default             Number, 1-4, so that no states sharing a border will have same fill\n",
      "map_label_x                  X-coordinate for map label, e.g. state name\n",
      "map_label_y                  Y-coordinate for map label\n",
      "map_label_text_anchor        Text anchor (start, middle, end) for label\n",
      "map_label_line_path          Path for line connecting state and label, if applicable\n",
      "\n",
      "altmap_path                  Alternate SVG path, without labels\n",
      "\n",
      "square_x                     Horizontal position of square grid\n",
      "square_y                     Vertical position of square grid\n",
      "\n",
      "altsquare_x                  Alternate horizontal position of square grid\n",
      "altsquare_y                  Alternate vertical position of square grid\n",
      "\n",
      "hex_x                        Horizontal position of hex grid\n",
      "hex_y                        Vertical position of hex grid\n",
      "\n",
      "fourhex_x                    Horizontal position of topmost, then leftmost, hex in four-hex multihex layout\n",
      "fourhex_y                    Vertical position of topmost, then leftmost, hex in four-hex multihex layout\n",
      "fourhex_contour              Contour of four-hex layout: a=up&right, b=down&right, c=down, d=down&left, e=up&left, f=up\n",
      "fourhex_label_offset_x       Horizontal offset of label, in terms of hex width\n",
      "fourhex_label_offset_y       Vertical offset of label, in terms of hex width\n",
      "\n"
     ]
    }
   ],
   "source": [
    "with open('usa_states_column_descriptions.txt') as f:\n",
    "    print(f.read())"
   ]
  },
  {
   "cell_type": "markdown",
   "metadata": {},
   "source": [
    "Plot out the grid map of the USA with the variations in color indicating how far from the mean of 0 the values for each state are. The hue intensities indicate less than 1, more than 1 and more than 2 standard deviations from the mean. Gray indicates very close to the mean."
   ]
  },
  {
   "cell_type": "code",
   "execution_count": 73,
   "metadata": {
    "scrolled": false
   },
   "outputs": [
    {
     "data": {
      "image/svg+xml": [
       "<svg height=\"451\" version=\"1.1\" width=\"671\" xmlns=\"http://www.w3.org/2000/svg\">\n",
       "<rect height=\"40\" id=\"rectAK\" ry=\"3\" style=\"stroke:#ffffff;stroke-width:0;stroke-miterlimit:4;stroke-opacity:1;stroke-dasharray:none;fill:#D3D3D3\" width=\"40\" x=\"30\" y=\"60\"/>\n",
       "<text id=\"textAK\" style=\"font-style:normal;font-weight:normal;font-size:12px;line-height:125%;text-anchor:middle;font-family:sans-serif;letter-spacing:0px;word-spacing:0px;fill-opacity:1;stroke:none;stroke-width:1px;stroke-linecap:butt;stroke-linejoin:miter;stroke-opacity:1;fill:#101010\" x=\"50.0\" y=\"75\">\n",
       "AK</text>\n",
       "<rect height=\"40\" id=\"rectAL\" ry=\"3\" style=\"stroke:#ffffff;stroke-width:0;stroke-miterlimit:4;stroke-opacity:1;stroke-dasharray:none;fill:#D3D3D3\" width=\"40\" x=\"317\" y=\"306\"/>\n",
       "<text id=\"textAL\" style=\"font-style:normal;font-weight:normal;font-size:12px;line-height:125%;text-anchor:middle;font-family:sans-serif;letter-spacing:0px;word-spacing:0px;fill-opacity:1;stroke:none;stroke-width:1px;stroke-linecap:butt;stroke-linejoin:miter;stroke-opacity:1;fill:#101010\" x=\"337.0\" y=\"321\">\n",
       "AL</text>\n",
       "<rect height=\"40\" id=\"rectAR\" ry=\"3\" style=\"stroke:#ffffff;stroke-width:0;stroke-miterlimit:4;stroke-opacity:1;stroke-dasharray:none;fill:#d8daeb\" width=\"40\" x=\"235\" y=\"265\"/>\n",
       "<text id=\"textAR\" style=\"font-style:normal;font-weight:normal;font-size:12px;line-height:125%;text-anchor:middle;font-family:sans-serif;letter-spacing:0px;word-spacing:0px;fill-opacity:1;stroke:none;stroke-width:1px;stroke-linecap:butt;stroke-linejoin:miter;stroke-opacity:1;fill:#101010\" x=\"255.0\" y=\"280\">\n",
       "AR</text>\n",
       "<rect height=\"40\" id=\"rectAZ\" ry=\"3\" style=\"stroke:#ffffff;stroke-width:0;stroke-miterlimit:4;stroke-opacity:1;stroke-dasharray:none;fill:#d8daeb\" width=\"40\" x=\"112\" y=\"265\"/>\n",
       "<text id=\"textAZ\" style=\"font-style:normal;font-weight:normal;font-size:12px;line-height:125%;text-anchor:middle;font-family:sans-serif;letter-spacing:0px;word-spacing:0px;fill-opacity:1;stroke:none;stroke-width:1px;stroke-linecap:butt;stroke-linejoin:miter;stroke-opacity:1;fill:#101010\" x=\"132.0\" y=\"280\">\n",
       "AZ</text>\n",
       "<rect height=\"40\" id=\"rectCA\" ry=\"3\" style=\"stroke:#ffffff;stroke-width:0;stroke-miterlimit:4;stroke-opacity:1;stroke-dasharray:none;fill:#542788\" width=\"40\" x=\"71\" y=\"265\"/>\n",
       "<text id=\"textCA\" style=\"font-style:normal;font-weight:normal;font-size:12px;line-height:125%;text-anchor:middle;font-family:sans-serif;letter-spacing:0px;word-spacing:0px;fill-opacity:1;stroke:none;stroke-width:1px;stroke-linecap:butt;stroke-linejoin:miter;stroke-opacity:1;fill:#e0e0e0\" x=\"91.0\" y=\"280\">\n",
       "CA</text>\n",
       "<rect height=\"40\" id=\"rectCO\" ry=\"3\" style=\"stroke:#ffffff;stroke-width:0;stroke-miterlimit:4;stroke-opacity:1;stroke-dasharray:none;fill:#fee0b6\" width=\"40\" x=\"153\" y=\"265\"/>\n",
       "<text id=\"textCO\" style=\"font-style:normal;font-weight:normal;font-size:12px;line-height:125%;text-anchor:middle;font-family:sans-serif;letter-spacing:0px;word-spacing:0px;fill-opacity:1;stroke:none;stroke-width:1px;stroke-linecap:butt;stroke-linejoin:miter;stroke-opacity:1;fill:#101010\" x=\"173.0\" y=\"280\">\n",
       "CO</text>\n",
       "<rect height=\"40\" id=\"rectCT\" ry=\"3\" style=\"stroke:#ffffff;stroke-width:0;stroke-miterlimit:4;stroke-opacity:1;stroke-dasharray:none;fill:#fee0b6\" width=\"40\" x=\"440\" y=\"183\"/>\n",
       "<text id=\"textCT\" style=\"font-style:normal;font-weight:normal;font-size:12px;line-height:125%;text-anchor:middle;font-family:sans-serif;letter-spacing:0px;word-spacing:0px;fill-opacity:1;stroke:none;stroke-width:1px;stroke-linecap:butt;stroke-linejoin:miter;stroke-opacity:1;fill:#101010\" x=\"460.0\" y=\"198\">\n",
       "CT</text>\n",
       "<rect height=\"40\" id=\"rectDC\" ry=\"3\" style=\"stroke:#ffffff;stroke-width:0;stroke-miterlimit:4;stroke-opacity:1;stroke-dasharray:none;fill:#D3D3D3\" width=\"40\" x=\"481\" y=\"265\"/>\n",
       "<text id=\"textDC\" style=\"font-style:normal;font-weight:normal;font-size:12px;line-height:125%;text-anchor:middle;font-family:sans-serif;letter-spacing:0px;word-spacing:0px;fill-opacity:1;stroke:none;stroke-width:1px;stroke-linecap:butt;stroke-linejoin:miter;stroke-opacity:1;fill:#101010\" x=\"501.0\" y=\"280\">\n",
       "DC</text>\n",
       "<rect height=\"40\" id=\"rectDE\" ry=\"3\" style=\"stroke:#ffffff;stroke-width:0;stroke-miterlimit:4;stroke-opacity:1;stroke-dasharray:none;fill:#D3D3D3\" width=\"40\" x=\"399\" y=\"224\"/>\n",
       "<text id=\"textDE\" style=\"font-style:normal;font-weight:normal;font-size:12px;line-height:125%;text-anchor:middle;font-family:sans-serif;letter-spacing:0px;word-spacing:0px;fill-opacity:1;stroke:none;stroke-width:1px;stroke-linecap:butt;stroke-linejoin:miter;stroke-opacity:1;fill:#101010\" x=\"419.0\" y=\"239\">\n",
       "DE</text>\n",
       "<rect height=\"40\" id=\"rectFL\" ry=\"3\" style=\"stroke:#ffffff;stroke-width:0;stroke-miterlimit:4;stroke-opacity:1;stroke-dasharray:none;fill:#D3D3D3\" width=\"40\" x=\"358\" y=\"388\"/>\n",
       "<text id=\"textFL\" style=\"font-style:normal;font-weight:normal;font-size:12px;line-height:125%;text-anchor:middle;font-family:sans-serif;letter-spacing:0px;word-spacing:0px;fill-opacity:1;stroke:none;stroke-width:1px;stroke-linecap:butt;stroke-linejoin:miter;stroke-opacity:1;fill:#101010\" x=\"378.0\" y=\"403\">\n",
       "FL</text>\n",
       "<rect height=\"40\" id=\"rectGA\" ry=\"3\" style=\"stroke:#ffffff;stroke-width:0;stroke-miterlimit:4;stroke-opacity:1;stroke-dasharray:none;fill:#fee0b6\" width=\"40\" x=\"317\" y=\"347\"/>\n",
       "<text id=\"textGA\" style=\"font-style:normal;font-weight:normal;font-size:12px;line-height:125%;text-anchor:middle;font-family:sans-serif;letter-spacing:0px;word-spacing:0px;fill-opacity:1;stroke:none;stroke-width:1px;stroke-linecap:butt;stroke-linejoin:miter;stroke-opacity:1;fill:#101010\" x=\"337.0\" y=\"362\">\n",
       "GA</text>\n",
       "<rect height=\"40\" id=\"rectHI\" ry=\"3\" style=\"stroke:#ffffff;stroke-width:0;stroke-miterlimit:4;stroke-opacity:1;stroke-dasharray:none;fill:#D3D3D3\" width=\"40\" x=\"30\" y=\"388\"/>\n",
       "<text id=\"textHI\" style=\"font-style:normal;font-weight:normal;font-size:12px;line-height:125%;text-anchor:middle;font-family:sans-serif;letter-spacing:0px;word-spacing:0px;fill-opacity:1;stroke:none;stroke-width:1px;stroke-linecap:butt;stroke-linejoin:miter;stroke-opacity:1;fill:#101010\" x=\"50.0\" y=\"403\">\n",
       "HI</text>\n",
       "<rect height=\"40\" id=\"rectIA\" ry=\"3\" style=\"stroke:#ffffff;stroke-width:0;stroke-miterlimit:4;stroke-opacity:1;stroke-dasharray:none;fill:#D3D3D3\" width=\"40\" x=\"194\" y=\"183\"/>\n",
       "<text id=\"textIA\" style=\"font-style:normal;font-weight:normal;font-size:12px;line-height:125%;text-anchor:middle;font-family:sans-serif;letter-spacing:0px;word-spacing:0px;fill-opacity:1;stroke:none;stroke-width:1px;stroke-linecap:butt;stroke-linejoin:miter;stroke-opacity:1;fill:#101010\" x=\"214.0\" y=\"198\">\n",
       "IA</text>\n",
       "<rect height=\"40\" id=\"rectID\" ry=\"3\" style=\"stroke:#ffffff;stroke-width:0;stroke-miterlimit:4;stroke-opacity:1;stroke-dasharray:none;fill:#D3D3D3\" width=\"40\" x=\"71\" y=\"183\"/>\n",
       "<text id=\"textID\" style=\"font-style:normal;font-weight:normal;font-size:12px;line-height:125%;text-anchor:middle;font-family:sans-serif;letter-spacing:0px;word-spacing:0px;fill-opacity:1;stroke:none;stroke-width:1px;stroke-linecap:butt;stroke-linejoin:miter;stroke-opacity:1;fill:#101010\" x=\"91.0\" y=\"198\">\n",
       "ID</text>\n",
       "<rect height=\"40\" id=\"rectIL\" ry=\"3\" style=\"stroke:#ffffff;stroke-width:0;stroke-miterlimit:4;stroke-opacity:1;stroke-dasharray:none;fill:#D3D3D3\" width=\"40\" x=\"235\" y=\"183\"/>\n",
       "<text id=\"textIL\" style=\"font-style:normal;font-weight:normal;font-size:12px;line-height:125%;text-anchor:middle;font-family:sans-serif;letter-spacing:0px;word-spacing:0px;fill-opacity:1;stroke:none;stroke-width:1px;stroke-linecap:butt;stroke-linejoin:miter;stroke-opacity:1;fill:#101010\" x=\"255.0\" y=\"198\">\n",
       "IL</text>\n",
       "<rect height=\"40\" id=\"rectIN\" ry=\"3\" style=\"stroke:#ffffff;stroke-width:0;stroke-miterlimit:4;stroke-opacity:1;stroke-dasharray:none;fill:#D3D3D3\" width=\"40\" x=\"276\" y=\"183\"/>\n",
       "<text id=\"textIN\" style=\"font-style:normal;font-weight:normal;font-size:12px;line-height:125%;text-anchor:middle;font-family:sans-serif;letter-spacing:0px;word-spacing:0px;fill-opacity:1;stroke:none;stroke-width:1px;stroke-linecap:butt;stroke-linejoin:miter;stroke-opacity:1;fill:#101010\" x=\"296.0\" y=\"198\">\n",
       "IN</text>\n",
       "<rect height=\"40\" id=\"rectKS\" ry=\"3\" style=\"stroke:#ffffff;stroke-width:0;stroke-miterlimit:4;stroke-opacity:1;stroke-dasharray:none;fill:#D3D3D3\" width=\"40\" x=\"194\" y=\"265\"/>\n",
       "<text id=\"textKS\" style=\"font-style:normal;font-weight:normal;font-size:12px;line-height:125%;text-anchor:middle;font-family:sans-serif;letter-spacing:0px;word-spacing:0px;fill-opacity:1;stroke:none;stroke-width:1px;stroke-linecap:butt;stroke-linejoin:miter;stroke-opacity:1;fill:#101010\" x=\"214.0\" y=\"280\">\n",
       "KS</text>\n",
       "<rect height=\"40\" id=\"rectKY\" ry=\"3\" style=\"stroke:#ffffff;stroke-width:0;stroke-miterlimit:4;stroke-opacity:1;stroke-dasharray:none;fill:#D3D3D3\" width=\"40\" x=\"276\" y=\"224\"/>\n",
       "<text id=\"textKY\" style=\"font-style:normal;font-weight:normal;font-size:12px;line-height:125%;text-anchor:middle;font-family:sans-serif;letter-spacing:0px;word-spacing:0px;fill-opacity:1;stroke:none;stroke-width:1px;stroke-linecap:butt;stroke-linejoin:miter;stroke-opacity:1;fill:#101010\" x=\"296.0\" y=\"239\">\n",
       "KY</text>\n",
       "<rect height=\"40\" id=\"rectLA\" ry=\"3\" style=\"stroke:#ffffff;stroke-width:0;stroke-miterlimit:4;stroke-opacity:1;stroke-dasharray:none;fill:#d8daeb\" width=\"40\" x=\"235\" y=\"306\"/>\n",
       "<text id=\"textLA\" style=\"font-style:normal;font-weight:normal;font-size:12px;line-height:125%;text-anchor:middle;font-family:sans-serif;letter-spacing:0px;word-spacing:0px;fill-opacity:1;stroke:none;stroke-width:1px;stroke-linecap:butt;stroke-linejoin:miter;stroke-opacity:1;fill:#101010\" x=\"255.0\" y=\"321\">\n",
       "LA</text>\n",
       "<rect height=\"40\" id=\"rectMA\" ry=\"3\" style=\"stroke:#ffffff;stroke-width:0;stroke-miterlimit:4;stroke-opacity:1;stroke-dasharray:none;fill:#f1a340\" width=\"40\" x=\"440\" y=\"142\"/>\n",
       "<text id=\"textMA\" style=\"font-style:normal;font-weight:normal;font-size:12px;line-height:125%;text-anchor:middle;font-family:sans-serif;letter-spacing:0px;word-spacing:0px;fill-opacity:1;stroke:none;stroke-width:1px;stroke-linecap:butt;stroke-linejoin:miter;stroke-opacity:1;fill:#101010\" x=\"460.0\" y=\"157\">\n",
       "MA</text>\n",
       "<rect height=\"40\" id=\"rectMD\" ry=\"3\" style=\"stroke:#ffffff;stroke-width:0;stroke-miterlimit:4;stroke-opacity:1;stroke-dasharray:none;fill:#D3D3D3\" width=\"40\" x=\"358\" y=\"224\"/>\n",
       "<text id=\"textMD\" style=\"font-style:normal;font-weight:normal;font-size:12px;line-height:125%;text-anchor:middle;font-family:sans-serif;letter-spacing:0px;word-spacing:0px;fill-opacity:1;stroke:none;stroke-width:1px;stroke-linecap:butt;stroke-linejoin:miter;stroke-opacity:1;fill:#101010\" x=\"378.0\" y=\"239\">\n",
       "MD</text>\n",
       "<rect height=\"40\" id=\"rectME\" ry=\"3\" style=\"stroke:#ffffff;stroke-width:0;stroke-miterlimit:4;stroke-opacity:1;stroke-dasharray:none;fill:#D3D3D3\" width=\"40\" x=\"481\" y=\"60\"/>\n",
       "<text id=\"textME\" style=\"font-style:normal;font-weight:normal;font-size:12px;line-height:125%;text-anchor:middle;font-family:sans-serif;letter-spacing:0px;word-spacing:0px;fill-opacity:1;stroke:none;stroke-width:1px;stroke-linecap:butt;stroke-linejoin:miter;stroke-opacity:1;fill:#101010\" x=\"501.0\" y=\"75\">\n",
       "ME</text>\n",
       "<rect height=\"40\" id=\"rectMI\" ry=\"3\" style=\"stroke:#ffffff;stroke-width:0;stroke-miterlimit:4;stroke-opacity:1;stroke-dasharray:none;fill:#fee0b6\" width=\"40\" x=\"317\" y=\"142\"/>\n",
       "<text id=\"textMI\" style=\"font-style:normal;font-weight:normal;font-size:12px;line-height:125%;text-anchor:middle;font-family:sans-serif;letter-spacing:0px;word-spacing:0px;fill-opacity:1;stroke:none;stroke-width:1px;stroke-linecap:butt;stroke-linejoin:miter;stroke-opacity:1;fill:#101010\" x=\"337.0\" y=\"157\">\n",
       "MI</text>\n",
       "<rect height=\"40\" id=\"rectMN\" ry=\"3\" style=\"stroke:#ffffff;stroke-width:0;stroke-miterlimit:4;stroke-opacity:1;stroke-dasharray:none;fill:#D3D3D3\" width=\"40\" x=\"194\" y=\"142\"/>\n",
       "<text id=\"textMN\" style=\"font-style:normal;font-weight:normal;font-size:12px;line-height:125%;text-anchor:middle;font-family:sans-serif;letter-spacing:0px;word-spacing:0px;fill-opacity:1;stroke:none;stroke-width:1px;stroke-linecap:butt;stroke-linejoin:miter;stroke-opacity:1;fill:#101010\" x=\"214.0\" y=\"157\">\n",
       "MN</text>\n",
       "<rect height=\"40\" id=\"rectMO\" ry=\"3\" style=\"stroke:#ffffff;stroke-width:0;stroke-miterlimit:4;stroke-opacity:1;stroke-dasharray:none;fill:#d8daeb\" width=\"40\" x=\"235\" y=\"224\"/>\n",
       "<text id=\"textMO\" style=\"font-style:normal;font-weight:normal;font-size:12px;line-height:125%;text-anchor:middle;font-family:sans-serif;letter-spacing:0px;word-spacing:0px;fill-opacity:1;stroke:none;stroke-width:1px;stroke-linecap:butt;stroke-linejoin:miter;stroke-opacity:1;fill:#101010\" x=\"255.0\" y=\"239\">\n",
       "MO</text>\n",
       "<rect height=\"40\" id=\"rectMS\" ry=\"3\" style=\"stroke:#ffffff;stroke-width:0;stroke-miterlimit:4;stroke-opacity:1;stroke-dasharray:none;fill:#fee0b6\" width=\"40\" x=\"276\" y=\"306\"/>\n",
       "<text id=\"textMS\" style=\"font-style:normal;font-weight:normal;font-size:12px;line-height:125%;text-anchor:middle;font-family:sans-serif;letter-spacing:0px;word-spacing:0px;fill-opacity:1;stroke:none;stroke-width:1px;stroke-linecap:butt;stroke-linejoin:miter;stroke-opacity:1;fill:#101010\" x=\"296.0\" y=\"321\">\n",
       "MS</text>\n",
       "<rect height=\"40\" id=\"rectMT\" ry=\"3\" style=\"stroke:#ffffff;stroke-width:0;stroke-miterlimit:4;stroke-opacity:1;stroke-dasharray:none;fill:#D3D3D3\" width=\"40\" x=\"112\" y=\"142\"/>\n",
       "<text id=\"textMT\" style=\"font-style:normal;font-weight:normal;font-size:12px;line-height:125%;text-anchor:middle;font-family:sans-serif;letter-spacing:0px;word-spacing:0px;fill-opacity:1;stroke:none;stroke-width:1px;stroke-linecap:butt;stroke-linejoin:miter;stroke-opacity:1;fill:#101010\" x=\"132.0\" y=\"157\">\n",
       "MT</text>\n",
       "<rect height=\"40\" id=\"rectNC\" ry=\"3\" style=\"stroke:#ffffff;stroke-width:0;stroke-miterlimit:4;stroke-opacity:1;stroke-dasharray:none;fill:#D3D3D3\" width=\"40\" x=\"358\" y=\"265\"/>\n",
       "<text id=\"textNC\" style=\"font-style:normal;font-weight:normal;font-size:12px;line-height:125%;text-anchor:middle;font-family:sans-serif;letter-spacing:0px;word-spacing:0px;fill-opacity:1;stroke:none;stroke-width:1px;stroke-linecap:butt;stroke-linejoin:miter;stroke-opacity:1;fill:#101010\" x=\"378.0\" y=\"280\">\n",
       "NC</text>\n",
       "<rect height=\"40\" id=\"rectND\" ry=\"3\" style=\"stroke:#ffffff;stroke-width:0;stroke-miterlimit:4;stroke-opacity:1;stroke-dasharray:none;fill:#D3D3D3\" width=\"40\" x=\"153\" y=\"142\"/>\n",
       "<text id=\"textND\" style=\"font-style:normal;font-weight:normal;font-size:12px;line-height:125%;text-anchor:middle;font-family:sans-serif;letter-spacing:0px;word-spacing:0px;fill-opacity:1;stroke:none;stroke-width:1px;stroke-linecap:butt;stroke-linejoin:miter;stroke-opacity:1;fill:#101010\" x=\"173.0\" y=\"157\">\n",
       "ND</text>\n",
       "<rect height=\"40\" id=\"rectNE\" ry=\"3\" style=\"stroke:#ffffff;stroke-width:0;stroke-miterlimit:4;stroke-opacity:1;stroke-dasharray:none;fill:#D3D3D3\" width=\"40\" x=\"194\" y=\"224\"/>\n",
       "<text id=\"textNE\" style=\"font-style:normal;font-weight:normal;font-size:12px;line-height:125%;text-anchor:middle;font-family:sans-serif;letter-spacing:0px;word-spacing:0px;fill-opacity:1;stroke:none;stroke-width:1px;stroke-linecap:butt;stroke-linejoin:miter;stroke-opacity:1;fill:#101010\" x=\"214.0\" y=\"239\">\n",
       "NE</text>\n",
       "<rect height=\"40\" id=\"rectNH\" ry=\"3\" style=\"stroke:#ffffff;stroke-width:0;stroke-miterlimit:4;stroke-opacity:1;stroke-dasharray:none;fill:#D3D3D3\" width=\"40\" x=\"440\" y=\"101\"/>\n",
       "<text id=\"textNH\" style=\"font-style:normal;font-weight:normal;font-size:12px;line-height:125%;text-anchor:middle;font-family:sans-serif;letter-spacing:0px;word-spacing:0px;fill-opacity:1;stroke:none;stroke-width:1px;stroke-linecap:butt;stroke-linejoin:miter;stroke-opacity:1;fill:#101010\" x=\"460.0\" y=\"116\">\n",
       "NH</text>\n",
       "<rect height=\"40\" id=\"rectNJ\" ry=\"3\" style=\"stroke:#ffffff;stroke-width:0;stroke-miterlimit:4;stroke-opacity:1;stroke-dasharray:none;fill:#f1a340\" width=\"40\" x=\"399\" y=\"183\"/>\n",
       "<text id=\"textNJ\" style=\"font-style:normal;font-weight:normal;font-size:12px;line-height:125%;text-anchor:middle;font-family:sans-serif;letter-spacing:0px;word-spacing:0px;fill-opacity:1;stroke:none;stroke-width:1px;stroke-linecap:butt;stroke-linejoin:miter;stroke-opacity:1;fill:#101010\" x=\"419.0\" y=\"198\">\n",
       "NJ</text>\n",
       "<rect height=\"40\" id=\"rectNM\" ry=\"3\" style=\"stroke:#ffffff;stroke-width:0;stroke-miterlimit:4;stroke-opacity:1;stroke-dasharray:none;fill:#D3D3D3\" width=\"40\" x=\"153\" y=\"306\"/>\n",
       "<text id=\"textNM\" style=\"font-style:normal;font-weight:normal;font-size:12px;line-height:125%;text-anchor:middle;font-family:sans-serif;letter-spacing:0px;word-spacing:0px;fill-opacity:1;stroke:none;stroke-width:1px;stroke-linecap:butt;stroke-linejoin:miter;stroke-opacity:1;fill:#101010\" x=\"173.0\" y=\"321\">\n",
       "NM</text>\n",
       "<rect height=\"40\" id=\"rectNV\" ry=\"3\" style=\"stroke:#ffffff;stroke-width:0;stroke-miterlimit:4;stroke-opacity:1;stroke-dasharray:none;fill:#D3D3D3\" width=\"40\" x=\"112\" y=\"224\"/>\n",
       "<text id=\"textNV\" style=\"font-style:normal;font-weight:normal;font-size:12px;line-height:125%;text-anchor:middle;font-family:sans-serif;letter-spacing:0px;word-spacing:0px;fill-opacity:1;stroke:none;stroke-width:1px;stroke-linecap:butt;stroke-linejoin:miter;stroke-opacity:1;fill:#101010\" x=\"132.0\" y=\"239\">\n",
       "NV</text>\n",
       "<rect height=\"40\" id=\"rectNY\" ry=\"3\" style=\"stroke:#ffffff;stroke-width:0;stroke-miterlimit:4;stroke-opacity:1;stroke-dasharray:none;fill:#D3D3D3\" width=\"40\" x=\"399\" y=\"142\"/>\n",
       "<text id=\"textNY\" style=\"font-style:normal;font-weight:normal;font-size:12px;line-height:125%;text-anchor:middle;font-family:sans-serif;letter-spacing:0px;word-spacing:0px;fill-opacity:1;stroke:none;stroke-width:1px;stroke-linecap:butt;stroke-linejoin:miter;stroke-opacity:1;fill:#101010\" x=\"419.0\" y=\"157\">\n",
       "NY</text>\n",
       "<rect height=\"40\" id=\"rectOH\" ry=\"3\" style=\"stroke:#ffffff;stroke-width:0;stroke-miterlimit:4;stroke-opacity:1;stroke-dasharray:none;fill:#D3D3D3\" width=\"40\" x=\"317\" y=\"183\"/>\n",
       "<text id=\"textOH\" style=\"font-style:normal;font-weight:normal;font-size:12px;line-height:125%;text-anchor:middle;font-family:sans-serif;letter-spacing:0px;word-spacing:0px;fill-opacity:1;stroke:none;stroke-width:1px;stroke-linecap:butt;stroke-linejoin:miter;stroke-opacity:1;fill:#101010\" x=\"337.0\" y=\"198\">\n",
       "OH</text>\n",
       "<rect height=\"40\" id=\"rectOK\" ry=\"3\" style=\"stroke:#ffffff;stroke-width:0;stroke-miterlimit:4;stroke-opacity:1;stroke-dasharray:none;fill:#d8daeb\" width=\"40\" x=\"194\" y=\"306\"/>\n",
       "<text id=\"textOK\" style=\"font-style:normal;font-weight:normal;font-size:12px;line-height:125%;text-anchor:middle;font-family:sans-serif;letter-spacing:0px;word-spacing:0px;fill-opacity:1;stroke:none;stroke-width:1px;stroke-linecap:butt;stroke-linejoin:miter;stroke-opacity:1;fill:#101010\" x=\"214.0\" y=\"321\">\n",
       "OK</text>\n",
       "<rect height=\"40\" id=\"rectOR\" ry=\"3\" style=\"stroke:#ffffff;stroke-width:0;stroke-miterlimit:4;stroke-opacity:1;stroke-dasharray:none;fill:#b35806\" width=\"40\" x=\"71\" y=\"224\"/>\n",
       "<text id=\"textOR\" style=\"font-style:normal;font-weight:normal;font-size:12px;line-height:125%;text-anchor:middle;font-family:sans-serif;letter-spacing:0px;word-spacing:0px;fill-opacity:1;stroke:none;stroke-width:1px;stroke-linecap:butt;stroke-linejoin:miter;stroke-opacity:1;fill:#e0e0e0\" x=\"91.0\" y=\"239\">\n",
       "OR</text>\n",
       "<rect height=\"40\" id=\"rectPA\" ry=\"3\" style=\"stroke:#ffffff;stroke-width:0;stroke-miterlimit:4;stroke-opacity:1;stroke-dasharray:none;fill:#fee0b6\" width=\"40\" x=\"358\" y=\"183\"/>\n",
       "<text id=\"textPA\" style=\"font-style:normal;font-weight:normal;font-size:12px;line-height:125%;text-anchor:middle;font-family:sans-serif;letter-spacing:0px;word-spacing:0px;fill-opacity:1;stroke:none;stroke-width:1px;stroke-linecap:butt;stroke-linejoin:miter;stroke-opacity:1;fill:#101010\" x=\"378.0\" y=\"198\">\n",
       "PA</text>\n",
       "<rect height=\"40\" id=\"rectRI\" ry=\"3\" style=\"stroke:#ffffff;stroke-width:0;stroke-miterlimit:4;stroke-opacity:1;stroke-dasharray:none;fill:#D3D3D3\" width=\"40\" x=\"481\" y=\"142\"/>\n",
       "<text id=\"textRI\" style=\"font-style:normal;font-weight:normal;font-size:12px;line-height:125%;text-anchor:middle;font-family:sans-serif;letter-spacing:0px;word-spacing:0px;fill-opacity:1;stroke:none;stroke-width:1px;stroke-linecap:butt;stroke-linejoin:miter;stroke-opacity:1;fill:#101010\" x=\"501.0\" y=\"157\">\n",
       "RI</text>\n",
       "<rect height=\"40\" id=\"rectSC\" ry=\"3\" style=\"stroke:#ffffff;stroke-width:0;stroke-miterlimit:4;stroke-opacity:1;stroke-dasharray:none;fill:#D3D3D3\" width=\"40\" x=\"358\" y=\"306\"/>\n",
       "<text id=\"textSC\" style=\"font-style:normal;font-weight:normal;font-size:12px;line-height:125%;text-anchor:middle;font-family:sans-serif;letter-spacing:0px;word-spacing:0px;fill-opacity:1;stroke:none;stroke-width:1px;stroke-linecap:butt;stroke-linejoin:miter;stroke-opacity:1;fill:#101010\" x=\"378.0\" y=\"321\">\n",
       "SC</text>\n",
       "<rect height=\"40\" id=\"rectSD\" ry=\"3\" style=\"stroke:#ffffff;stroke-width:0;stroke-miterlimit:4;stroke-opacity:1;stroke-dasharray:none;fill:#D3D3D3\" width=\"40\" x=\"153\" y=\"183\"/>\n",
       "<text id=\"textSD\" style=\"font-style:normal;font-weight:normal;font-size:12px;line-height:125%;text-anchor:middle;font-family:sans-serif;letter-spacing:0px;word-spacing:0px;fill-opacity:1;stroke:none;stroke-width:1px;stroke-linecap:butt;stroke-linejoin:miter;stroke-opacity:1;fill:#101010\" x=\"173.0\" y=\"198\">\n",
       "SD</text>\n",
       "<rect height=\"40\" id=\"rectTN\" ry=\"3\" style=\"stroke:#ffffff;stroke-width:0;stroke-miterlimit:4;stroke-opacity:1;stroke-dasharray:none;fill:#D3D3D3\" width=\"40\" x=\"276\" y=\"265\"/>\n",
       "<text id=\"textTN\" style=\"font-style:normal;font-weight:normal;font-size:12px;line-height:125%;text-anchor:middle;font-family:sans-serif;letter-spacing:0px;word-spacing:0px;fill-opacity:1;stroke:none;stroke-width:1px;stroke-linecap:butt;stroke-linejoin:miter;stroke-opacity:1;fill:#101010\" x=\"296.0\" y=\"280\">\n",
       "TN</text>\n",
       "<rect height=\"40\" id=\"rectTX\" ry=\"3\" style=\"stroke:#ffffff;stroke-width:0;stroke-miterlimit:4;stroke-opacity:1;stroke-dasharray:none;fill:#542788\" width=\"40\" x=\"153\" y=\"347\"/>\n",
       "<text id=\"textTX\" style=\"font-style:normal;font-weight:normal;font-size:12px;line-height:125%;text-anchor:middle;font-family:sans-serif;letter-spacing:0px;word-spacing:0px;fill-opacity:1;stroke:none;stroke-width:1px;stroke-linecap:butt;stroke-linejoin:miter;stroke-opacity:1;fill:#e0e0e0\" x=\"173.0\" y=\"362\">\n",
       "TX</text>\n",
       "<rect height=\"40\" id=\"rectUT\" ry=\"3\" style=\"stroke:#ffffff;stroke-width:0;stroke-miterlimit:4;stroke-opacity:1;stroke-dasharray:none;fill:#D3D3D3\" width=\"40\" x=\"153\" y=\"224\"/>\n",
       "<text id=\"textUT\" style=\"font-style:normal;font-weight:normal;font-size:12px;line-height:125%;text-anchor:middle;font-family:sans-serif;letter-spacing:0px;word-spacing:0px;fill-opacity:1;stroke:none;stroke-width:1px;stroke-linecap:butt;stroke-linejoin:miter;stroke-opacity:1;fill:#101010\" x=\"173.0\" y=\"239\">\n",
       "UT</text>\n",
       "<rect height=\"40\" id=\"rectVA\" ry=\"3\" style=\"stroke:#ffffff;stroke-width:0;stroke-miterlimit:4;stroke-opacity:1;stroke-dasharray:none;fill:#b35806\" width=\"40\" x=\"317\" y=\"265\"/>\n",
       "<text id=\"textVA\" style=\"font-style:normal;font-weight:normal;font-size:12px;line-height:125%;text-anchor:middle;font-family:sans-serif;letter-spacing:0px;word-spacing:0px;fill-opacity:1;stroke:none;stroke-width:1px;stroke-linecap:butt;stroke-linejoin:miter;stroke-opacity:1;fill:#e0e0e0\" x=\"337.0\" y=\"280\">\n",
       "VA</text>\n",
       "<rect height=\"40\" id=\"rectVT\" ry=\"3\" style=\"stroke:#ffffff;stroke-width:0;stroke-miterlimit:4;stroke-opacity:1;stroke-dasharray:none;fill:#D3D3D3\" width=\"40\" x=\"399\" y=\"101\"/>\n",
       "<text id=\"textVT\" style=\"font-style:normal;font-weight:normal;font-size:12px;line-height:125%;text-anchor:middle;font-family:sans-serif;letter-spacing:0px;word-spacing:0px;fill-opacity:1;stroke:none;stroke-width:1px;stroke-linecap:butt;stroke-linejoin:miter;stroke-opacity:1;fill:#101010\" x=\"419.0\" y=\"116\">\n",
       "VT</text>\n",
       "<rect height=\"40\" id=\"rectWA\" ry=\"3\" style=\"stroke:#ffffff;stroke-width:0;stroke-miterlimit:4;stroke-opacity:1;stroke-dasharray:none;fill:#f1a340\" width=\"40\" x=\"71\" y=\"142\"/>\n",
       "<text id=\"textWA\" style=\"font-style:normal;font-weight:normal;font-size:12px;line-height:125%;text-anchor:middle;font-family:sans-serif;letter-spacing:0px;word-spacing:0px;fill-opacity:1;stroke:none;stroke-width:1px;stroke-linecap:butt;stroke-linejoin:miter;stroke-opacity:1;fill:#101010\" x=\"91.0\" y=\"157\">\n",
       "WA</text>\n",
       "<rect height=\"40\" id=\"rectWI\" ry=\"3\" style=\"stroke:#ffffff;stroke-width:0;stroke-miterlimit:4;stroke-opacity:1;stroke-dasharray:none;fill:#D3D3D3\" width=\"40\" x=\"235\" y=\"142\"/>\n",
       "<text id=\"textWI\" style=\"font-style:normal;font-weight:normal;font-size:12px;line-height:125%;text-anchor:middle;font-family:sans-serif;letter-spacing:0px;word-spacing:0px;fill-opacity:1;stroke:none;stroke-width:1px;stroke-linecap:butt;stroke-linejoin:miter;stroke-opacity:1;fill:#101010\" x=\"255.0\" y=\"157\">\n",
       "WI</text>\n",
       "<rect height=\"40\" id=\"rectWV\" ry=\"3\" style=\"stroke:#ffffff;stroke-width:0;stroke-miterlimit:4;stroke-opacity:1;stroke-dasharray:none;fill:#D3D3D3\" width=\"40\" x=\"317\" y=\"224\"/>\n",
       "<text id=\"textWV\" style=\"font-style:normal;font-weight:normal;font-size:12px;line-height:125%;text-anchor:middle;font-family:sans-serif;letter-spacing:0px;word-spacing:0px;fill-opacity:1;stroke:none;stroke-width:1px;stroke-linecap:butt;stroke-linejoin:miter;stroke-opacity:1;fill:#101010\" x=\"337.0\" y=\"239\">\n",
       "WV</text>\n",
       "<rect height=\"40\" id=\"rectWY\" ry=\"3\" style=\"stroke:#ffffff;stroke-width:0;stroke-miterlimit:4;stroke-opacity:1;stroke-dasharray:none;fill:#D3D3D3\" width=\"40\" x=\"112\" y=\"183\"/>\n",
       "<text id=\"textWY\" style=\"font-style:normal;font-weight:normal;font-size:12px;line-height:125%;text-anchor:middle;font-family:sans-serif;letter-spacing:0px;word-spacing:0px;fill-opacity:1;stroke:none;stroke-width:1px;stroke-linecap:butt;stroke-linejoin:miter;stroke-opacity:1;fill:#101010\" x=\"132.0\" y=\"198\">\n",
       "WY</text>\n",
       "<g transform=\"translate(521 341)\">\n",
       "<rect height=\"10.25\" id=\"legendbox0\" style=\"fill:#542788;stroke-width:0.5px;stroke:#303030;fill-rule:evenodd;stroke-linecap:butt;stroke-linejoin:miter;stroke-opacity:1\" width=\"10.25\" x=\"0\" y=\"13.5\"/>\n",
       "<rect height=\"10.25\" id=\"legendbox1\" style=\"fill:#998ec3;stroke-width:0.5px;stroke:#303030;fill-rule:evenodd;stroke-linecap:butt;stroke-linejoin:miter;stroke-opacity:1\" width=\"10.25\" x=\"0\" y=\"25.75\"/>\n",
       "<rect height=\"10.25\" id=\"legendbox2\" style=\"fill:#d8daeb;stroke-width:0.5px;stroke:#303030;fill-rule:evenodd;stroke-linecap:butt;stroke-linejoin:miter;stroke-opacity:1\" width=\"10.25\" x=\"0\" y=\"38.0\"/>\n",
       "<rect height=\"10.25\" id=\"legendbox3\" style=\"fill:#D3D3D3;stroke-width:0.5px;stroke:#303030;fill-rule:evenodd;stroke-linecap:butt;stroke-linejoin:miter;stroke-opacity:1\" width=\"10.25\" x=\"0\" y=\"50.25\"/>\n",
       "<rect height=\"10.25\" id=\"legendbox4\" style=\"fill:#fee0b6;stroke-width:0.5px;stroke:#303030;fill-rule:evenodd;stroke-linecap:butt;stroke-linejoin:miter;stroke-opacity:1\" width=\"10.25\" x=\"0\" y=\"62.5\"/>\n",
       "<rect height=\"10.25\" id=\"legendbox5\" style=\"fill:#f1a340;stroke-width:0.5px;stroke:#303030;fill-rule:evenodd;stroke-linecap:butt;stroke-linejoin:miter;stroke-opacity:1\" width=\"10.25\" x=\"0\" y=\"74.75\"/>\n",
       "<rect height=\"10.25\" id=\"legendbox6\" style=\"fill:#b35806;stroke-width:0.5px;stroke:#303030;fill-rule:evenodd;stroke-linecap:butt;stroke-linejoin:miter;stroke-opacity:1\" width=\"10.25\" x=\"0\" y=\"87.0\"/>\n",
       "<text id=\"legendlabel0\" style=\"font-style:normal;font-weight:normal;font-size:12px;line-height:125%;text-anchor:left;font-family:sans-serif;letter-spacing:0px;word-spacing:0px;fill-opacity:1;stroke:none;stroke-width:1px;stroke-linecap:butt;stroke-linejoin:miter;stroke-opacity:1;alignment-baseline:middle\" x=\"14.25\" y=\"21.625\">\n",
       "0.7-2.0</text>\n",
       "<text id=\"legendlabel1\" style=\"font-style:normal;font-weight:normal;font-size:12px;line-height:125%;text-anchor:left;font-family:sans-serif;letter-spacing:0px;word-spacing:0px;fill-opacity:1;stroke:none;stroke-width:1px;stroke-linecap:butt;stroke-linejoin:miter;stroke-opacity:1;alignment-baseline:middle\" x=\"14.25\" y=\"33.875\">\n",
       "0.36-0.7</text>\n",
       "<text id=\"legendlabel2\" style=\"font-style:normal;font-weight:normal;font-size:12px;line-height:125%;text-anchor:left;font-family:sans-serif;letter-spacing:0px;word-spacing:0px;fill-opacity:1;stroke:none;stroke-width:1px;stroke-linecap:butt;stroke-linejoin:miter;stroke-opacity:1;alignment-baseline:middle\" x=\"14.25\" y=\"46.125\">\n",
       "0.1-0.36</text>\n",
       "<text id=\"legendlabel3\" style=\"font-style:normal;font-weight:normal;font-size:12px;line-height:125%;text-anchor:left;font-family:sans-serif;letter-spacing:0px;word-spacing:0px;fill-opacity:1;stroke:none;stroke-width:1px;stroke-linecap:butt;stroke-linejoin:miter;stroke-opacity:1;alignment-baseline:middle\" x=\"14.25\" y=\"58.375\">\n",
       "-0.1-0.1</text>\n",
       "<text id=\"legendlabel4\" style=\"font-style:normal;font-weight:normal;font-size:12px;line-height:125%;text-anchor:left;font-family:sans-serif;letter-spacing:0px;word-spacing:0px;fill-opacity:1;stroke:none;stroke-width:1px;stroke-linecap:butt;stroke-linejoin:miter;stroke-opacity:1;alignment-baseline:middle\" x=\"14.25\" y=\"70.625\">\n",
       "-0.36--0.1</text>\n",
       "<text id=\"legendlabel5\" style=\"font-style:normal;font-weight:normal;font-size:12px;line-height:125%;text-anchor:left;font-family:sans-serif;letter-spacing:0px;word-spacing:0px;fill-opacity:1;stroke:none;stroke-width:1px;stroke-linecap:butt;stroke-linejoin:miter;stroke-opacity:1;alignment-baseline:middle\" x=\"14.25\" y=\"82.875\">\n",
       "-0.7--0.36</text>\n",
       "<text id=\"legendlabel6\" style=\"font-style:normal;font-weight:normal;font-size:12px;line-height:125%;text-anchor:left;font-family:sans-serif;letter-spacing:0px;word-spacing:0px;fill-opacity:1;stroke:none;stroke-width:1px;stroke-linecap:butt;stroke-linejoin:miter;stroke-opacity:1;alignment-baseline:middle\" x=\"14.25\" y=\"95.125\">\n",
       "-2.0--0.7</text>\n",
       "<text id=\"legendtitle\" style=\"font-style:normal;font-weight:normal;font-size:12px;line-height:125%;text-anchor:left;font-family:sans-serif;letter-spacing:0px;word-spacing:0px;fill-opacity:1;stroke:none;stroke-width:1px;stroke-linecap:butt;stroke-linejoin:miter;stroke-opacity:1\" x=\"0\" y=\"0\">\n",
       "% Difference from State</text>\n",
       "</g>\n",
       "<text id=\"title\" style=\"font-style:normal;font-weight:normal;font-size:19;line-height:125%;text-anchor:middle;font-family:sans-serif;letter-spacing:0px;word-spacing:0px;fill-opacity:1;stroke:none;stroke-width:1px;stroke-linecap:butt;stroke-linejoin:miter;stroke-opacity:1;fill:#000000\" x=\"275.5\" y=\"30\">\n",
       "Net Neutratlity Fillings \n",
       " as Variation of % from State Proportions</text>\n",
       "</svg>"
      ],
      "text/plain": [
       "<IPython.core.display.SVG object>"
      ]
     },
     "metadata": {},
     "output_type": "display_data"
    }
   ],
   "source": [
    "cg = Chorogrid('usa_states.csv', states, colors_by_state)\n",
    "cg.set_title('Net Neutratlity Fillings \\n as Variation of % from State Proportions', font_dict={'font-size': 19})\n",
    "cg.set_legend(legend_colors, legend_labels, title='% Difference from State')\n",
    "cg.draw_squares(x_column='altsquare_x', y_column='altsquare_y', spacing_dict={'margin_right': 150},\n",
    "                font_colors=font_colors_by_state)\n",
    "cg.done(show=True,save_filename='chorogrid proportions')"
   ]
  },
  {
   "cell_type": "markdown",
   "metadata": {},
   "source": [
    "Plot out the normalized distribution of the values from the data, the markers for the standard deviations and the annotations for the extreme values."
   ]
  },
  {
   "cell_type": "code",
   "execution_count": 74,
   "metadata": {},
   "outputs": [
    {
     "data": {
      "text/plain": [
       "Text(0.5,0,'Variation from Population Proportion')"
      ]
     },
     "execution_count": 74,
     "metadata": {},
     "output_type": "execute_result"
    },
    {
     "data": {
      "image/png": "[encoded data removed]",
      "text/plain": [
       "<matplotlib.figure.Figure at 0x2e2893e1668>"
      ]
     },
     "metadata": {},
     "output_type": "display_data"
    }
   ],
   "source": [
    "import seaborn as sns\n",
    "import matplotlib.pyplot as plt\n",
    "import matplotlib.mlab as mlab\n",
    "\n",
    "import numpy as np\n",
    "import math\n",
    "%matplotlib inline\n",
    "\n",
    "mu = df['diff_perc_pop_comments'].mean() # 0.000196\n",
    "variance = df['diff_perc_pop_comments'].var() #0.1292\n",
    "sigma = math.sqrt(variance) #0.359\n",
    "x = np.linspace(mu - 3*sigma, mu + 3*sigma, 100)\n",
    "\n",
    "\n",
    "plt.figure( figsize=(12,5), dpi=80)\n",
    "plt.plot(x,mlab.normpdf(x, mu, sigma))\n",
    "plt.title('Distribution of Differences \\n in FCC Comments filing to State Populations')\n",
    "\n",
    "\n",
    "df.sort_values('diff_perc_pop_comments', inplace=True)\n",
    "plt.plot([0, 0], [0, 4.0], linewidth=1)\n",
    "plt.plot([0.7, 0.7], [0, 4.0], linewidth=1,linestyle='--',alpha=0.3,color='red')\n",
    "plt.plot([-0.7, -0.7], [0, 4.0], linewidth=1,linestyle='--',alpha=0.3,color='red')\n",
    "plt.plot([0.36, 0.36], [0, 4.0], linewidth=1,linestyle='--',alpha=0.3,color='pink')\n",
    "plt.plot([-0.36, -0.36], [0, 4.0], linewidth=1,linestyle='--',alpha=0.3,color='pink')\n",
    "plt.ylim(0, 4.0)\n",
    "plt.xlim(-2.0, 2.0)\n",
    "plt.subplots_adjust(left=0.0, right=1.0, bottom=0.0, top=1.0)\n",
    "plt.grid(False)\n",
    "plt.annotate('Texas', xy=(1.65, 0.4), xytext=(1.65, 1),arrowprops=dict(facecolor='black', shrink=0.1))\n",
    "plt.annotate('California', xy=(1.1, 0.4), xytext=(1.1, 1),arrowprops=dict(facecolor='black', shrink=0.1))\n",
    "plt.annotate('Oregon', xy=(-.85, 0.4), xytext=(-.85, 1.2),arrowprops=dict(facecolor='black', shrink=0.1))\n",
    "plt.annotate('Virginia', xy=(-.72, 0.4), xytext=(-.8, .9),arrowprops=dict(facecolor='black', shrink=0.1))\n",
    "\n",
    "ax = sns.distplot(df['diff_perc_pop_comments'],bins=42)\n",
    "plt.xlabel('Variation from Population Proportion')\n",
    "#ax.fill_between(x2,y2, color=\"blue\", alpha=0.3)\n",
    "\n"
   ]
  }
 ],
 "metadata": {
  "kernelspec": {
   "display_name": "Python 3",
   "language": "python",
   "name": "python3"
  },
  "language_info": {
   "codemirror_mode": {
    "name": "ipython",
    "version": 3
   },
   "file_extension": ".py",
   "mimetype": "text/x-python",
   "name": "python",
   "nbconvert_exporter": "python",
   "pygments_lexer": "ipython3",
   "version": "3.6.3"
  }
 },
 "nbformat": 4,
 "nbformat_minor": 2
}
