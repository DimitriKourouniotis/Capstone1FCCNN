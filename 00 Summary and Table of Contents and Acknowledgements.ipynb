{
 "cells": [
  {
   "cell_type": "markdown",
   "metadata": {},
   "source": [
    "## Analysis of FCC Net Neutrality Comments\n",
    "## Supervised Machine Learning using NLP\n",
    "### by Dimitri Kourouniotis"
   ]
  },
  {
   "cell_type": "markdown",
   "metadata": {},
   "source": [
    "In the winter of 2017 there were numerous articles about quantity of fake comments submitted regarding the repeal of Net Neutrality laws by the FCC. "
   ]
  },
  {
   "cell_type": "markdown",
   "metadata": {},
   "source": [
    "A blog post published by Jeff Kao caught my attention and I followed up with him on his analysis of the text. He provided me with the unedited 22 million filings available. I analyzed a sample of 3 million of them to see what I could find to develop my own features based around the text of faked comments. "
   ]
  },
  {
   "cell_type": "markdown",
   "metadata": {},
   "source": [
    "<li> 00 Summary and Table of Contents\n",
    "<li> 01 Importing 3 million FCC records from SQL\n",
    "<li> 02 Email domains\n",
    "<li> 03 WordCloud\n",
    "<li> 04 Submission Frequency\n",
    "<li> 05 State Population Estimates 2016 and Comment Percentages\n",
    "<li> 06 Plotting Differences from Average\n",
    "<li> 07 Chorogrid Map of US\n",
    "<li> 08 Statistics Proportions by State Relative to Population\n",
    "<li> 09 Classifiers and Feature Selection    "
   ]
  },
  {
   "cell_type": "markdown",
   "metadata": {},
   "source": [
    "## Acknowledgements"
   ]
  },
  {
   "cell_type": "markdown",
   "metadata": {},
   "source": [
    "#### Many thanks to my mentor, Rajiv Shah!\n"
   ]
  },
  {
   "cell_type": "markdown",
   "metadata": {},
   "source": [
    "#### Thanks to the following for the data and code help for this capstone:\n",
    "\n",
    "#### Data: Jeff Kao\n",
    "More than a million pro-repeal net neutrality comments were likely faked<br>\n",
    "https://hackernoon.com/more-than-a-million-pro-repeal-net-neutrality-comments-were-likely-faked-e9f0e3ed36a6\n",
    "\n",
    "\n",
    "\n",
    "#### Word Cloud: Nikhil Kumar Singh\n",
    "wordcloud example<br>\n",
    "https://github.com/nikhilkumarsingh/wordcloud-example/blob/7a77e97c4da135b67ad924be96269d6bb68a0fe6/mywc.py\n",
    "\n",
    "\n",
    "\n",
    "#### Chorogrid Plot: lavinben88\n",
    "chorogrid tutorial part 2<br>\n",
    "https://plot.ly/~lavinben88/116/chorogrid-tutorial-part-2-chorogri/\n",
    "\n",
    "\n",
    "\n",
    "#### Classifier Iterator: Evgeny Volkov\n",
    "SMS spam detection with various classifiers<br>\n",
    "https://www.kaggle.com/muzzzdy/sms-spam-detection-with-various-classifiers\n",
    "\n"
   ]
  },
  {
   "cell_type": "code",
   "execution_count": null,
   "metadata": {},
   "outputs": [],
   "source": []
  }
 ],
 "metadata": {
  "kernelspec": {
   "display_name": "Python 3",
   "language": "python",
   "name": "python3"
  },
  "language_info": {
   "codemirror_mode": {
    "name": "ipython",
    "version": 3
   },
   "file_extension": ".py",
   "mimetype": "text/x-python",
   "name": "python",
   "nbconvert_exporter": "python",
   "pygments_lexer": "ipython3",
   "version": "3.6.3"
  }
 },
 "nbformat": 4,
 "nbformat_minor": 2
}
